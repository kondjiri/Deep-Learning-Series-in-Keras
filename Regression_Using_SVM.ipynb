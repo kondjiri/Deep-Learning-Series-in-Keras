{
  "nbformat": 4,
  "nbformat_minor": 0,
  "metadata": {
    "colab": {
      "name": "Regression_Using_SVM.ipynb",
      "provenance": [],
      "collapsed_sections": [
        "hRvyZM6zgRFG"
      ],
      "authorship_tag": "ABX9TyNne2ikM10kdkFxsMn1WLnA",
      "include_colab_link": true
    },
    "kernelspec": {
      "name": "python3",
      "display_name": "Python 3"
    },
    "accelerator": "TPU"
  },
  "cells": [
    {
      "cell_type": "markdown",
      "metadata": {
        "id": "view-in-github",
        "colab_type": "text"
      },
      "source": [
        "<a href=\"https://colab.research.google.com/github/kondjiri/Deep-Learning-Series-in-Keras/blob/main/Regression_Using_SVM.ipynb\" target=\"_parent\"><img src=\"https://colab.research.google.com/assets/colab-badge.svg\" alt=\"Open In Colab\"/></a>"
      ]
    },
    {
      "cell_type": "code",
      "metadata": {
        "id": "trGAvGxeXwK_"
      },
      "source": [
        "from sklearn import svm\n",
        "from sklearn.datasets import load_breast_cancer\n",
        "from sklearn.model_selection import train_test_split\n",
        "from sklearn import metrics"
      ],
      "execution_count": null,
      "outputs": []
    },
    {
      "cell_type": "code",
      "metadata": {
        "id": "41_5cRr-IcQ3"
      },
      "source": [
        "cancer = load_breast_cancer()"
      ],
      "execution_count": null,
      "outputs": []
    },
    {
      "cell_type": "code",
      "metadata": {
        "id": "QIFwjsjtIiQ3"
      },
      "source": [
        "train_x,test_x,train_y,test_y = train_test_split(cancer.data,cancer.target,test_size=0.2,random_state=49)"
      ],
      "execution_count": null,
      "outputs": []
    },
    {
      "cell_type": "code",
      "metadata": {
        "id": "vs53hoT9JyaI"
      },
      "source": [
        "svm = svm.SVC(kernel='linear')"
      ],
      "execution_count": null,
      "outputs": []
    },
    {
      "cell_type": "code",
      "metadata": {
        "id": "2o0oxfJHKK11"
      },
      "source": [
        "svm.fit(train_x,train_y)\n",
        "y_pred = svm.predict(test_x)"
      ],
      "execution_count": null,
      "outputs": []
    },
    {
      "cell_type": "code",
      "metadata": {
        "id": "AXirdtDIKTHm",
        "colab": {
          "base_uri": "https://localhost:8080/",
          "height": 34
        },
        "outputId": "ea21f6b2-d34f-43c0-9898-2bb5adeff8c7"
      },
      "source": [
        "print('Accuracy: {:0.2f}%'.format(metrics.accuracy_score(test_y,y_pred)))"
      ],
      "execution_count": null,
      "outputs": [
        {
          "output_type": "stream",
          "text": [
            "Accuracy: 0.94%\n"
          ],
          "name": "stdout"
        }
      ]
    },
    {
      "cell_type": "code",
      "metadata": {
        "id": "4lCSHv7mLl9v",
        "colab": {
          "base_uri": "https://localhost:8080/",
          "height": 34
        },
        "outputId": "d803ced9-7194-4b9c-f129-9aabdeb6708a"
      },
      "source": [
        "print('Precision : {:.2f}%'.format(metrics.precision_score(test_y,y_pred)))"
      ],
      "execution_count": null,
      "outputs": [
        {
          "output_type": "stream",
          "text": [
            "Precision : 0.96%\n"
          ],
          "name": "stdout"
        }
      ]
    },
    {
      "cell_type": "code",
      "metadata": {
        "id": "40UQUKzjL2I9",
        "colab": {
          "base_uri": "https://localhost:8080/",
          "height": 34
        },
        "outputId": "614c79d1-5fc1-4f1f-ca07-459e832dac66"
      },
      "source": [
        "print(\"Recall : {:.2f}%\".format(metrics.recall_score(test_y,y_pred)))"
      ],
      "execution_count": null,
      "outputs": [
        {
          "output_type": "stream",
          "text": [
            "Recall : 0.95%\n"
          ],
          "name": "stdout"
        }
      ]
    },
    {
      "cell_type": "code",
      "metadata": {
        "id": "wfgt3PjNMOVQ"
      },
      "source": [
        ""
      ],
      "execution_count": null,
      "outputs": []
    }
  ]
}