{
  "nbformat": 4,
  "nbformat_minor": 0,
  "metadata": {
    "colab": {
      "name": "Convolutional_Neural_Network_CNN_Using_Tensorflow",
      "provenance": [],
      "collapsed_sections": [],
      "authorship_tag": "ABX9TyOrOfRe+GmGmCeItTM/iXyD",
      "include_colab_link": true
    },
    "kernelspec": {
      "name": "python3",
      "display_name": "Python 3"
    }
  },
  "cells": [
    {
      "cell_type": "markdown",
      "metadata": {
        "id": "view-in-github",
        "colab_type": "text"
      },
      "source": [
        "<a href=\"https://colab.research.google.com/github/kondjiri/Deep-Learning-Series-in-Keras/blob/main/Convolutional_Neural_Network_CNN_Using_Tensorflow.ipynb\" target=\"_parent\"><img src=\"https://colab.research.google.com/assets/colab-badge.svg\" alt=\"Open In Colab\"/></a>"
      ]
    },
    {
      "cell_type": "code",
      "metadata": {
        "id": "Uf0-5PLyDWp8"
      },
      "source": [
        "import matplotlib.pyplot as plt\n",
        "import tensorflow as tf\n",
        "import numpy as np\n",
        "from tensorflow.examples.tutorials.mnist import input_data\n",
        "%matplotlib inline\n",
        "import os\n",
        "os.environ[\"CUDA_VISIBLE_DEVICES\"]=\"0\""
      ],
      "execution_count": null,
      "outputs": []
    },
    {
      "cell_type": "code",
      "metadata": {
        "id": "CYbVnxXnHzzj",
        "colab": {
          "base_uri": "https://localhost:8080/",
          "height": 530
        },
        "outputId": "e078752c-5c8c-4f35-f9dc-0072e06cf522"
      },
      "source": [
        "data=input_data.read_data_sets('data/fashion',one_hot=True)"
      ],
      "execution_count": null,
      "outputs": [
        {
          "output_type": "stream",
          "text": [
            "WARNING:tensorflow:From <ipython-input-2-1a947352a459>:1: read_data_sets (from tensorflow.contrib.learn.python.learn.datasets.mnist) is deprecated and will be removed in a future version.\n",
            "Instructions for updating:\n",
            "Please use alternatives such as official/mnist/dataset.py from tensorflow/models.\n",
            "WARNING:tensorflow:From /tensorflow-1.15.0/python3.6/tensorflow_core/contrib/learn/python/learn/datasets/mnist.py:260: maybe_download (from tensorflow.contrib.learn.python.learn.datasets.base) is deprecated and will be removed in a future version.\n",
            "Instructions for updating:\n",
            "Please write your own downloading logic.\n",
            "WARNING:tensorflow:From /tensorflow-1.15.0/python3.6/tensorflow_core/contrib/learn/python/learn/datasets/base.py:252: _internal_retry.<locals>.wrap.<locals>.wrapped_fn (from tensorflow.contrib.learn.python.learn.datasets.base) is deprecated and will be removed in a future version.\n",
            "Instructions for updating:\n",
            "Please use urllib or similar directly.\n",
            "Successfully downloaded train-images-idx3-ubyte.gz 9912422 bytes.\n",
            "WARNING:tensorflow:From /tensorflow-1.15.0/python3.6/tensorflow_core/contrib/learn/python/learn/datasets/mnist.py:262: extract_images (from tensorflow.contrib.learn.python.learn.datasets.mnist) is deprecated and will be removed in a future version.\n",
            "Instructions for updating:\n",
            "Please use tf.data to implement this functionality.\n",
            "Extracting data/fashion/train-images-idx3-ubyte.gz\n",
            "Successfully downloaded train-labels-idx1-ubyte.gz 28881 bytes.\n",
            "WARNING:tensorflow:From /tensorflow-1.15.0/python3.6/tensorflow_core/contrib/learn/python/learn/datasets/mnist.py:267: extract_labels (from tensorflow.contrib.learn.python.learn.datasets.mnist) is deprecated and will be removed in a future version.\n",
            "Instructions for updating:\n",
            "Please use tf.data to implement this functionality.\n",
            "Extracting data/fashion/train-labels-idx1-ubyte.gz\n",
            "WARNING:tensorflow:From /tensorflow-1.15.0/python3.6/tensorflow_core/contrib/learn/python/learn/datasets/mnist.py:110: dense_to_one_hot (from tensorflow.contrib.learn.python.learn.datasets.mnist) is deprecated and will be removed in a future version.\n",
            "Instructions for updating:\n",
            "Please use tf.one_hot on tensors.\n",
            "Successfully downloaded t10k-images-idx3-ubyte.gz 1648877 bytes.\n",
            "Extracting data/fashion/t10k-images-idx3-ubyte.gz\n",
            "Successfully downloaded t10k-labels-idx1-ubyte.gz 4542 bytes.\n",
            "Extracting data/fashion/t10k-labels-idx1-ubyte.gz\n",
            "WARNING:tensorflow:From /tensorflow-1.15.0/python3.6/tensorflow_core/contrib/learn/python/learn/datasets/mnist.py:290: DataSet.__init__ (from tensorflow.contrib.learn.python.learn.datasets.mnist) is deprecated and will be removed in a future version.\n",
            "Instructions for updating:\n",
            "Please use alternatives such as official/mnist/dataset.py from tensorflow/models.\n"
          ],
          "name": "stdout"
        }
      ]
    },
    {
      "cell_type": "code",
      "metadata": {
        "id": "qWvGKpFlJEmq",
        "colab": {
          "base_uri": "https://localhost:8080/",
          "height": 51
        },
        "outputId": "85a4b535-a035-4907-f2de-54970b13ebb1"
      },
      "source": [
        "print(\"Training set (images) shape: {shape}\".format(shape=data.train.images.shape))\n",
        "print(\"Training set (labels) shape: {shape}\".format(shape=data.train.labels.shape))"
      ],
      "execution_count": null,
      "outputs": [
        {
          "output_type": "stream",
          "text": [
            "Training set (images) shape: (55000, 784)\n",
            "Training set (labels) shape: (55000, 10)\n"
          ],
          "name": "stdout"
        }
      ]
    },
    {
      "cell_type": "code",
      "metadata": {
        "id": "RzRHApGxJ1vN",
        "colab": {
          "base_uri": "https://localhost:8080/",
          "height": 51
        },
        "outputId": "73191a6e-5c1e-41ab-c050-e3e91f7213e5"
      },
      "source": [
        "print(\"Testing set (images) shape: {}\".format(data.test.images.shape))\n",
        "print(\"Testing set (labels) shape: {}\".format(data.test.labels.shape))"
      ],
      "execution_count": null,
      "outputs": [
        {
          "output_type": "stream",
          "text": [
            "Testing set (images) shape: (10000, 784)\n",
            "Testing set (labels) shape: (10000, 10)\n"
          ],
          "name": "stdout"
        }
      ]
    },
    {
      "cell_type": "code",
      "metadata": {
        "id": "F8jKfBvIKR7u"
      },
      "source": [
        "# Creating a dictionnary  of target variables classes\n",
        "\n",
        "label_dict={\n",
        "  0: 'T-shirt/top',\n",
        "  1: 'Trouser',\n",
        "  2: 'Pullover',\n",
        "  3: 'Dress',\n",
        "  4: 'Coat',\n",
        "  5: 'Sandal',\n",
        "  6: 'Shirt',\n",
        "  7: 'Sneaker',\n",
        "  8: 'Bag',\n",
        "  9: 'Ankle boot'\n",
        "}"
      ],
      "execution_count": null,
      "outputs": []
    },
    {
      "cell_type": "code",
      "metadata": {
        "id": "SP3vRO3qLMDh",
        "colab": {
          "base_uri": "https://localhost:8080/",
          "height": 191
        },
        "outputId": "25a2e2f4-e4d9-4e83-df70-4d664c70d715"
      },
      "source": [
        "plt.figure(figsize=([5,5]))\n",
        "\n",
        "\n",
        "plt.subplot(121)\n",
        "\n",
        "curr_img = np.reshape(data.train.images[9],(28,28))\n",
        "curr_lbl=np.argmax(data.train.labels[9,:])\n",
        "plt.imshow(curr_img)\n",
        "plt.title(\"Label: {}\".format(label_dict[curr_lbl]))\n",
        "\n",
        "\n",
        "\n",
        "plt.subplot(122)\n",
        "\n",
        "curr_img = np.reshape(data.test.images[7],(28,28))\n",
        "curr_lbl=np.argmax(data.test.labels[7,:])\n",
        "plt.imshow(curr_img)\n",
        "plt.title(\"Label: {}\".format(label_dict[curr_lbl]))\n",
        "plt.show()"
      ],
      "execution_count": null,
      "outputs": [
        {
          "output_type": "display_data",
          "data": {
            "image/png": "[encoded data removed]",
            "text/plain": [
              "<Figure size 360x360 with 2 Axes>"
            ]
          },
          "metadata": {
            "tags": []
          }
        }
      ]
    },
    {
      "cell_type": "code",
      "metadata": {
        "id": "mDCH0eBjNO9v"
      },
      "source": [
        "# Reshape training end testing images \n",
        "\n",
        "\n",
        "train_X=data.train.images.reshape(-1,28,28,1)\n",
        "test_X=data.test.images.reshape(-1,28,28,1)"
      ],
      "execution_count": null,
      "outputs": []
    },
    {
      "cell_type": "code",
      "metadata": {
        "id": "KdGSSkWMPVi8"
      },
      "source": [
        "train_y=data.train.labels\n",
        "test_y=data.test.labels"
      ],
      "execution_count": null,
      "outputs": []
    },
    {
      "cell_type": "markdown",
      "metadata": {
        "id": "MLsqNAD0P6d6"
      },
      "source": [
        " **Deep Neural Network**"
      ]
    },
    {
      "cell_type": "code",
      "metadata": {
        "id": "spk_uVaoQMdc"
      },
      "source": [
        "# Hyperparameters Defining\n",
        "\n",
        "traing_iters=200\n",
        "\n",
        "learning_rate=0.001\n",
        "\n",
        "batch_size=128\n",
        "\n",
        "# Network Parameters\n",
        "\n",
        "n_input=28\n",
        "\n",
        "n_classes=10\n",
        "\n",
        "x=tf.placeholder(\"float\",[None,28,28,1])\n",
        "\n",
        "y=tf.placeholder(\"float\",[None,n_classes])"
      ],
      "execution_count": null,
      "outputs": []
    },
    {
      "cell_type": "code",
      "metadata": {
        "id": "aYQ69yTAYc_z"
      },
      "source": [
        ""
      ],
      "execution_count": null,
      "outputs": []
    },
    {
      "cell_type": "markdown",
      "metadata": {
        "id": "8c-Ol7pUYehB"
      },
      "source": [
        "Function Convolution Layer"
      ]
    },
    {
      "cell_type": "code",
      "metadata": {
        "id": "rvSHhtKyYm56"
      },
      "source": [
        "def conv2d(x,w,b,strides=1):\n",
        "  \n",
        "  x = tf.nn.conv2d(x,w,strides=[1,strides,strides,1],padding='SAME')\n",
        "  x = tf.nn.bias_add(x,b)\n",
        "  return tf.nn.relu(x)\n"
      ],
      "execution_count": null,
      "outputs": []
    },
    {
      "cell_type": "code",
      "metadata": {
        "id": "Akc059N6ZJUl"
      },
      "source": [
        ""
      ],
      "execution_count": null,
      "outputs": []
    },
    {
      "cell_type": "markdown",
      "metadata": {
        "id": "pJaxi-QUZJxb"
      },
      "source": [
        "Function Max Pooling Layer"
      ]
    },
    {
      "cell_type": "code",
      "metadata": {
        "id": "LoOkyIj1ZOcC"
      },
      "source": [
        "def maxpool2d(x,k=2):\n",
        "  return tf.nn.max_pool(x,ksize=[1,k,k,1],strides=[1,k,k,1],padding='SAME')\n"
      ],
      "execution_count": null,
      "outputs": []
    },
    {
      "cell_type": "code",
      "metadata": {
        "id": "6ioMIktZ8F0E",
        "colab": {
          "base_uri": "https://localhost:8080/",
          "height": 173
        },
        "outputId": "2ed7d3f1-50e7-4471-d014-f50cd98bff34"
      },
      "source": [
        "weights = {\n",
        "    'wc1': tf.get_variable('W0', shape=(3,3,1,32), initializer=tf.contrib.layers.xavier_initializer()), \n",
        "    'wc2': tf.get_variable('W1', shape=(3,3,32,64), initializer=tf.contrib.layers.xavier_initializer()), \n",
        "    'wc3': tf.get_variable('W2', shape=(3,3,64,128), initializer=tf.contrib.layers.xavier_initializer()), \n",
        "    'wd1': tf.get_variable('W3', shape=(4*4*128,128), initializer=tf.contrib.layers.xavier_initializer()), \n",
        "    'out': tf.get_variable('W6', shape=(128,n_classes), initializer=tf.contrib.layers.xavier_initializer()), \n",
        "}\n",
        "biases = {\n",
        "    'bc1': tf.get_variable('B0', shape=(32), initializer=tf.contrib.layers.xavier_initializer()),\n",
        "    'bc2': tf.get_variable('B1', shape=(64), initializer=tf.contrib.layers.xavier_initializer()),\n",
        "    'bc3': tf.get_variable('B2', shape=(128), initializer=tf.contrib.layers.xavier_initializer()),\n",
        "    'bd1': tf.get_variable('B3', shape=(128), initializer=tf.contrib.layers.xavier_initializer()),\n",
        "    'out': tf.get_variable('B4', shape=(10), initializer=tf.contrib.layers.xavier_initializer()),\n",
        "}"
      ],
      "execution_count": null,
      "outputs": [
        {
          "output_type": "stream",
          "text": [
            "WARNING:tensorflow:\n",
            "The TensorFlow contrib module will not be included in TensorFlow 2.0.\n",
            "For more information, please see:\n",
            "  * https://github.com/tensorflow/community/blob/master/rfcs/20180907-contrib-sunset.md\n",
            "  * https://github.com/tensorflow/addons\n",
            "  * https://github.com/tensorflow/io (for I/O related ops)\n",
            "If you depend on functionality not listed there, please file an issue.\n",
            "\n"
          ],
          "name": "stdout"
        }
      ]
    },
    {
      "cell_type": "code",
      "metadata": {
        "id": "UXC0lIgY9fdi"
      },
      "source": [
        "def conv_net(x,weights,biases):\n",
        "  \n",
        "  # here we call the conv2d function we had defined above and pass the input image x, weights wc1 and bias bc1.\n",
        "    conv1 = conv2d(x, weights['wc1'], biases['bc1'])\n",
        "    # Max Pooling (down-sampling), this chooses the max value from a 2*2 matrix window and outputs a 14*14 matrix.\n",
        "    conv1 = maxpool2d(conv1, k=2)\n",
        "\n",
        "    # Convolution Layer\n",
        "    # here we call the conv2d function we had defined above and pass the input image x, weights wc2 and bias bc2.\n",
        "    conv2 = conv2d(conv1, weights['wc2'], biases['bc2'])\n",
        "    # Max Pooling (down-sampling), this chooses the max value from a 2*2 matrix window and outputs a 7*7 matrix.\n",
        "    conv2 = maxpool2d(conv2, k=2)\n",
        "\n",
        "    conv3 = conv2d(conv2, weights['wc3'], biases['bc3'])\n",
        "    # Max Pooling (down-sampling), this chooses the max value from a 2*2 matrix window and outputs a 4*4.\n",
        "    conv3 = maxpool2d(conv3, k=2)\n",
        "\n",
        "\n",
        "    # Fully connected layer\n",
        "    # Reshape conv2 output to fit fully connected layer input\n",
        "    fc1 = tf.reshape(conv3, [-1, weights['wd1'].get_shape().as_list()[0]])\n",
        "    fc1 = tf.add(tf.matmul(fc1, weights['wd1']), biases['bd1'])\n",
        "    fc1 = tf.nn.relu(fc1)\n",
        "    # Output, class prediction\n",
        "    # finally we multiply the fully connected layer with the weights and add a bias term. \n",
        "    out = tf.add(tf.matmul(fc1, weights['out']), biases['out'])\n",
        "    return out\n"
      ],
      "execution_count": null,
      "outputs": []
    },
    {
      "cell_type": "code",
      "metadata": {
        "id": "bDkJeIJ1zEQ3"
      },
      "source": [
        "pred=conv_net(x,weights,biases)\n",
        "cost=tf.reduce_mean(tf.nn.softmax_cross_entropy_with_logits(logits=pred, labels=y))\n",
        "optimizer=tf.train.AdamOptimizer(learning_rate=learning_rate).minimize(cost)\n",
        "tf.trai.opt\n"
      ],
      "execution_count": null,
      "outputs": []
    },
    {
      "cell_type": "code",
      "metadata": {
        "id": "84RUplwh0Y5X"
      },
      "source": [
        "correct_prediction=tf.equal(tf.argmax(pred,1),tf.argmax(y,1))\n",
        "\n",
        "accuracy=tf.reduce_mean(tf.cast(correct_prediction,tf.float32))"
      ],
      "execution_count": null,
      "outputs": []
    },
    {
      "cell_type": "code",
      "metadata": {
        "id": "VpQB5g171iSs"
      },
      "source": [
        "init=tf.global_variables_initializer()\n"
      ],
      "execution_count": null,
      "outputs": []
    },
    {
      "cell_type": "code",
      "metadata": {
        "id": "E6d7h0Ym1swT"
      },
      "source": [
        "with tf.Session() as sess:\n",
        "  sess.run(init)\n",
        "  train_loss=[]\n",
        "  test_loss=[]\n",
        "  train_accuracy=[]\n",
        "  test_accuracy=[]\n",
        "  summary_writer=tf.summary.FileWriter('/output',sess.graph)\n",
        "\n",
        "  for i in range(traing_iters):\n",
        "    for batch in range(len(train_X)//batch_size):\n",
        "      batch_x=train_X[batch*batch_size:min((batch+1)*batch_size,len(train_X))]\n",
        "      batch_y=train_y[batch*batch_size:min((batch+1)*batch_size,len(train_y))]\n",
        "      \n",
        "\n",
        "\n",
        "      opt=sess.run(optimizer,feed_dict={x: batch_x, y:batch_y})\n",
        "\n",
        "      loss, acc=sess.run([cost,accuracy],feed_dict={x: batch_x, y:batch_y})\n",
        "\n",
        "      print(\"Iter \" + str(i) + \", Loss= \" + \\\n",
        "                      \"{:.6f}\".format(loss) + \", Training Accuracy= \" + \\\n",
        "                      \"{:.5f}\".format(acc))\n",
        "      print(\"Optimization Finished!\")\n",
        "\n",
        "\n",
        "      test_acc, valid_loss=sess.run([accuracy,cost],feed_dict={x:test_X, y:test_y})\n",
        "      train_loss.append(loss)\n",
        "      test_loss.append(valid_loss)\n",
        "      train_accuracy.append(acc)\n",
        "      test_accuracy.append(test_acc)\n",
        "\n",
        "      print(\"Testing Accuracy: \",\"{:.5f}\".format(test_acc))\n",
        "      summary_writer.close()\n",
        "\n"
      ],
      "execution_count": null,
      "outputs": []
    }
  ]
}